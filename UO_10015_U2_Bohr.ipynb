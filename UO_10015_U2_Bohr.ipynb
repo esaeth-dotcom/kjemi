{
 "cells": [
  {
   "cell_type": "markdown",
   "metadata": {},
   "source": [
    "# Bohr's atommodell\n",
    "\n",
    "<img src='U2_H_atommod.JPG' width='800'>\n",
    "\n",
    "**Figur 1** *Bohrs atommodell (foto privat)*\n",
    "\n",
    "\n",
    "<br>Bohr foreslo at elektronene i atomet oppfylte 2 kriterier:\n",
    "1. **Elektronet beveger seg kun i bestemte skall. Elektroner i ett bestemt skall har en bestemt energi.**\n",
    "2. **Elektronet kan eksiteres (hoppe til høyere skall) ved absorbere energi. Elektronet kan deeksiteres (hoppe til lavere skall) ved å sende ut ett foton med bestemt energi. Energien er lik energiforskjellen til de to skallene.**\n",
    "\n",
    "\n",
    "Energien til skall n er git ved:\n",
    "$$E_n=-\\frac{B}{n^2}$$\n",
    "Hvor B er Bohrkonstanten ($2,18\\cdot10^{-18} J$).\n",
    "\n",
    "Eksempelvis vil fotonet som sendes ut når som følge av et elektronhopp fra E2 til E1 ha energien:\n"
   ]
  },
  {
   "cell_type": "code",
   "execution_count": 1,
   "metadata": {},
   "outputs": [
    {
     "name": "stdout",
     "output_type": "stream",
     "text": [
      "Energi = 1.635e-18 J\n"
     ]
    }
   ],
   "source": [
    "B = 2.18E-18       #Bohrkonstanten\n",
    "E1 = -B/1**2       #Energi til E1\n",
    "E2 = -B/2**2       #Energi til E2\n",
    "deltaE = E2 - E1   #Fotonets energi/Energiforskjell E2 - E1\n",
    "print(f'Energi = {deltaE} J')"
   ]
  },
  {
   "cell_type": "markdown",
   "metadata": {},
   "source": [
    "For elektromagnetisk stråling kan frekvens ($f$ målt i Hz) beregnes fra fotonets energi og Planchkonstanten ($h=6,63\\cdot10^{-34}$Js) med følgende sammenheng:\n",
    "\n",
    "$$f=\\frac{E_{foton}}{h}$$\n",
    "\n",
    "Vi kan dermed beregne frekvensen til fotonet som resulterte fra elektronhopp fra E2 til E1:"
   ]
  },
  {
   "cell_type": "code",
   "execution_count": 2,
   "metadata": {},
   "outputs": [
    {
     "name": "stdout",
     "output_type": "stream",
     "text": [
      "frekvensen er 2.47E+15 Hz\n"
     ]
    }
   ],
   "source": [
    "h = 6.63E-34       #Planchkonstanten (Js)\n",
    "f = deltaE/h       #beregnet frekvens (Hz = 1/s)\n",
    "print(f'frekvensen er {f:.2E} Hz')"
   ]
  },
  {
   "cell_type": "markdown",
   "metadata": {},
   "source": [
    "For elektromagnetisk stråling er frekvens ganger bølgelengde ($\\lambda$ målt i meter) lik lysfarten ($c=3,00\\cdot10^{8} m/s$). \n",
    "Dermed kan bølgelengden til fotonet beregnes fra frekvensen:\n",
    "$$\\lambda=\\frac{c}{f}$$"
   ]
  },
  {
   "cell_type": "code",
   "execution_count": 3,
   "metadata": {},
   "outputs": [
    {
     "name": "stdout",
     "output_type": "stream",
     "text": [
      "Bølgelengde 1.22E-07 m, som tilsvarer 122 nm\n"
     ]
    }
   ],
   "source": [
    "c = 3.00E8                           #Lysfarten (m/s)\n",
    "bolgelengde = c/f                    #beregnet bølgelengde målt i m\n",
    "bolgelengde_nm = 1E9 * bolgelengde   #bølgelengde omgjort til nm (1 m = 1E9 nm)\n",
    "print(f'Bølgelengde {bolgelengde:.2E} m, som tilsvarer {bolgelengde_nm:.0f} nm')"
   ]
  },
  {
   "cell_type": "markdown",
   "metadata": {},
   "source": [
    "Dermed har vi beregnet at fotonet som emitteres som følge av elektronhopp fra E2 til E1 har en bølgelengde på 122 nm.\n",
    "Studere vi det elektromagnetiske spekteret ser vi at dette er stråling som har kortere bølgelengde enn synlige lys. Fotonet ligger i den ultraviolette (UV) delen av spekteret.<br><br>\n",
    "\n",
    "\n",
    "<img src='U2_EMspec.JPG' width='800'>\n",
    "\n",
    "  **Figur 2**  *Det elektromagnetiske spekteret (Hentet fra Gyldendahls tabeller og formler i kjemi)*\n",
    "\n",
    "## Oppgaver\n",
    "1. Beregn bølgelengden til fotonet som sendes ut når ett elektron hopper fra E3 til E1. Du skal regne for hånd. Svaret skal oppgis i nm, og du skal vurdere hva slags stråling det er (UV, synlig lys/farge, IR,...).\n",
    "\n",
    "\n",
    "2. Du skal lage en funksjon som bergner bølgelengden til fotonet som sendes ut når elektronet hopper fra skall m til skall n ($m>n$). Funksjonen skal returnere bølgelengden i nm. Før du begynner å programmere funksjonen skal skrive ned (med ord) hvilke beregninger funksjonen må gjøre, og i hvilken rekkefølge. Etter du har laget funksjonen tester du den med hopp fra E2 til E1 (hvor vi vet svaret bør bli 122 nm).\n",
    "\n",
    "\n",
    "3. Av spesiell interesse er hoppene fra høyere skall og ned til E2. Disse hoppene Kalles Balmerserien. Du skal nå bruke funksjonen din til å beregne Balmerserien ( $E6 \\rightarrow E2, E5 \\rightarrow E2, E4 \\rightarrow E2$ og $E3 \\rightarrow E2$).<br>Noter bølgelengdene og finn ut mest mulig om hva slags type elektormagnetisk stråling dette er. Hvilket av de fire fotonene tror du har størst energi? Gjør ett google-søk på emissjonspekteret til hydrogen. Sammenlign det du finner med verdiene du beregnet.\n",
    "\n",
    "\n",
    "4. På tilsvarende måte kalles hopp som ender i E1 kalles Lymanserien. <br>Beregn bølgelengde til fotonene som hører til Lymanserien. Hva slags type elektromagnetisk stråling er dette? Sammenlig med Balmerserien. Hva finner du ut? Er det overraskende? Prøv og forklare. \n",
    "\n",
    "\n",
    "5. Hopp fra høyere skall og ned til E3 kalles Paschen serien. <br>Beregn bølgelengde til fotonene som hører til Paschen serien. Hva slags type elektromagnetisk stråling er dette? Sammenlig med Balmerserien og Lymanserien. Hva finner du ut? Er det overraskende? Prøv og forklare. \n",
    "\n",
    "\n",
    "* __Ekstra utfordring__:<br>Klarer du å bruke løkker til å beregene og skrive ut bølgelengdene til de tre seriene på en oversiktlig og enkel måte?"
   ]
  },
  {
   "cell_type": "code",
   "execution_count": null,
   "metadata": {},
   "outputs": [],
   "source": []
  }
 ],
 "metadata": {
  "kernelspec": {
   "display_name": "Python 3 (ipykernel)",
   "language": "python",
   "name": "python3"
  },
  "language_info": {
   "codemirror_mode": {
    "name": "ipython",
    "version": 3
   },
   "file_extension": ".py",
   "mimetype": "text/x-python",
   "name": "python",
   "nbconvert_exporter": "python",
   "pygments_lexer": "ipython3",
   "version": "3.9.13"
  }
 },
 "nbformat": 4,
 "nbformat_minor": 4
}
